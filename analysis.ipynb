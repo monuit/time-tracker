{
 "cells": [
  {
   "cell_type": "code",
   "execution_count": 1,
   "metadata": {},
   "outputs": [],
   "source": [
    "import pandas as pd\n",
    "import matplotlib.pyplot as plt\n",
    "\n",
    "# Read in the parquet file\n",
    "file_path = r'outputs.parquet'\n",
    "df = pd.read_parquet(file_path, engine='pyarrow')"
   ]
  },
  {
   "cell_type": "code",
   "execution_count": 2,
   "metadata": {},
   "outputs": [
    {
     "name": "stdout",
     "output_type": "stream",
     "text": [
      "  ClassOfBusiness                 GL Province codes Policy subtype code  \\\n",
      "0           25,32  01,02,03,04,05,07,09,10,20,30,40               05,06   \n",
      "1           25,32  01,02,03,04,05,07,09,10,20,30,40               05,06   \n",
      "2           25,32  01,02,03,04,05,07,09,10,20,30,40               05,06   \n",
      "3           25,32  01,02,03,04,05,07,09,10,20,30,40               05,06   \n",
      "4           25,32  01,02,03,04,05,07,09,10,20,30,40               05,06   \n",
      "\n",
      "    Exposuretype code    CLASS ECLM (FT) LINE DESCRIPTION (LINE)             \\\n",
      "0  BodilyInjuryDamage  AUTO BI             BI           BODILY INJURY         \n",
      "1  BodilyInjuryDamage  AUTO BI             BI           BODILY INJURY         \n",
      "2  BodilyInjuryDamage  AUTO PD           BIFR       BODILY INJURY-FLRA        \n",
      "3  BodilyInjuryDamage  AUTO BI           BIFR       BODILY INJURY-FLRA        \n",
      "4  BodilyInjuryDamage  AUTO BI             PH        PASSENGER HAZARD         \n",
      "\n",
      "                         Category CoverageType             Code  ...  \\\n",
      "0  Third Party Liability Coverage    Liability  CALiability_Eco  ...   \n",
      "1  Third Party Liability Coverage    Liability  CALiability_Eco  ...   \n",
      "2  Third Party Liability Coverage    Liability  CALiability_Eco  ...   \n",
      "3  Third Party Liability Coverage    Liability  CALiability_Eco  ...   \n",
      "4  Third Party Liability Coverage    Liability  CALiability_Eco  ...   \n",
      "\n",
      "     Cost Category                                Line Category  \\\n",
      "0     Bodily Injury  Settlement, Disbursement, Advanced Payment   \n",
      "1     Bodily Injury  Settlement, Disbursement, Advanced Payment   \n",
      "2     Bodily Injury  Settlement, Disbursement, Advanced Payment   \n",
      "3     Bodily Injury  Settlement, Disbursement, Advanced Payment   \n",
      "4  Passenger Hazard  Settlement, Disbursement, Advanced Payment   \n",
      "\n",
      "  Policy subtype vehicletype_eco ca_vehicle_irca_ind KOL  \\\n",
      "0  Garage, Fleet               *                   *   2   \n",
      "1  Garage, Fleet               *                   *   2   \n",
      "2  Garage, Fleet               *                   *   2   \n",
      "3  Garage, Fleet               *                   *   2   \n",
      "4  Garage, Fleet               *                   *   1   \n",
      "\n",
      "                IBC  Kind of Loss Code -Description   \\\n",
      "0             Bodily Injury by any other third party   \n",
      "1             Bodily Injury by any other third party   \n",
      "2             Bodily Injury by any other third party   \n",
      "3             Bodily Injury by any other third party   \n",
      "4  Bodily Injury by passengers in the insured aut...   \n",
      "\n",
      "                 Province code IBC type of use rsp_ind  \n",
      "0  All Provinces except Quebec              62     Y,N  \n",
      "1                       Quebec              62     Y,N  \n",
      "2                       Quebec              62     Y,N  \n",
      "3  All Provinces except Quebec              62     Y,N  \n",
      "4  All Provinces except Quebec              62     Y,N  \n",
      "\n",
      "[5 rows x 24 columns]\n"
     ]
    }
   ],
   "source": [
    "# Display the first few rows of the dataframe\n",
    "print(df.head())"
   ]
  },
  {
   "cell_type": "code",
   "execution_count": 3,
   "metadata": {},
   "outputs": [
    {
     "name": "stdout",
     "output_type": "stream",
     "text": [
      "\n",
      "Basic Statistics:\n",
      "       ClassOfBusiness                 GL Province codes Policy subtype code  \\\n",
      "count          2565376                           2565376             2565376   \n",
      "unique               8                                11                   8   \n",
      "top              25,32  01,02,03,04,05,07,09,10,20,30,40               05,06   \n",
      "freq            320672                            233216              320672   \n",
      "\n",
      "         Exposuretype code    CLASS ECLM (FT) LINE  \\\n",
      "count              2565376   247808         266112   \n",
      "unique                   2        4             73   \n",
      "top     BodilyInjuryDamage  AUTO PD           THFT   \n",
      "freq               1282688   136576          25344   \n",
      "\n",
      "       DESCRIPTION (LINE)                               Category  \\\n",
      "count                         266112                      239360   \n",
      "unique                            75                          23   \n",
      "top                            COMP   Accident Benefits Coverage   \n",
      "freq                           28160                       49280   \n",
      "\n",
      "                   CoverageType             Code  ... Cost Category   \\\n",
      "count                    233728           240768  ...         232320   \n",
      "unique                       45               50  ...             44   \n",
      "top     Basic Accident Benefits  PAPIP_Basic_ECO  ...  lossOfUse_Ext   \n",
      "freq                      66176            66176  ...          18304   \n",
      "\n",
      "       Line Category      Policy subtype vehicletype_eco ca_vehicle_irca_ind  \\\n",
      "count         235136              242176          239360              239360   \n",
      "unique            44                  10               3                   3   \n",
      "top                *  PersonalAuto, IRCA               *                   *   \n",
      "freq           18304               61952          166144              166144   \n",
      "\n",
      "           KOL IBC  Kind of Loss Code -Description  Province code  \\\n",
      "count   268928                               271744        249216   \n",
      "unique      76                                   84            21   \n",
      "top         24     Theft of contents of the vehicle             *   \n",
      "freq     22528                                22528         64768   \n",
      "\n",
      "       IBC type of use rsp_ind  \n",
      "count           268928  280192  \n",
      "unique              18       3  \n",
      "top              73>76     Y,N  \n",
      "freq             57728  273152  \n",
      "\n",
      "[4 rows x 24 columns]\n"
     ]
    }
   ],
   "source": [
    "# Basic statistics\n",
    "print(\"\\nBasic Statistics:\")\n",
    "print(df.describe())"
   ]
  },
  {
   "cell_type": "code",
   "execution_count": 4,
   "metadata": {},
   "outputs": [
    {
     "name": "stdout",
     "output_type": "stream",
     "text": [
      "\n",
      "Time spent on each application:\n"
     ]
    },
    {
     "ename": "KeyError",
     "evalue": "'Application'",
     "output_type": "error",
     "traceback": [
      "\u001b[1;31m---------------------------------------------------------------------------\u001b[0m",
      "\u001b[1;31mKeyError\u001b[0m                                  Traceback (most recent call last)",
      "\u001b[1;32me:\\mine\\monuit\\time-tracker\\analysis.ipynb Cell 4\u001b[0m line \u001b[0;36m3\n\u001b[0;32m      <a href='vscode-notebook-cell:/e%3A/mine/monuit/time-tracker/analysis.ipynb#W3sZmlsZQ%3D%3D?line=0'>1</a>\u001b[0m \u001b[39m# Time spent on each application\u001b[39;00m\n\u001b[0;32m      <a href='vscode-notebook-cell:/e%3A/mine/monuit/time-tracker/analysis.ipynb#W3sZmlsZQ%3D%3D?line=1'>2</a>\u001b[0m \u001b[39mprint\u001b[39m(\u001b[39m\"\u001b[39m\u001b[39m\\n\u001b[39;00m\u001b[39mTime spent on each application:\u001b[39m\u001b[39m\"\u001b[39m)\n\u001b[1;32m----> <a href='vscode-notebook-cell:/e%3A/mine/monuit/time-tracker/analysis.ipynb#W3sZmlsZQ%3D%3D?line=2'>3</a>\u001b[0m app_time \u001b[39m=\u001b[39m df\u001b[39m.\u001b[39;49mgroupby(\u001b[39m'\u001b[39;49m\u001b[39mApplication\u001b[39;49m\u001b[39m'\u001b[39;49m)[\u001b[39m'\u001b[39m\u001b[39mTime_Spent\u001b[39m\u001b[39m'\u001b[39m]\u001b[39m.\u001b[39msum()\n\u001b[0;32m      <a href='vscode-notebook-cell:/e%3A/mine/monuit/time-tracker/analysis.ipynb#W3sZmlsZQ%3D%3D?line=3'>4</a>\u001b[0m \u001b[39mprint\u001b[39m(app_time)\n",
      "File \u001b[1;32mc:\\Users\\corpse\\AppData\\Local\\Programs\\Python\\Python311\\Lib\\site-packages\\pandas\\core\\frame.py:8252\u001b[0m, in \u001b[0;36mDataFrame.groupby\u001b[1;34m(self, by, axis, level, as_index, sort, group_keys, observed, dropna)\u001b[0m\n\u001b[0;32m   8249\u001b[0m     \u001b[39mraise\u001b[39;00m \u001b[39mTypeError\u001b[39;00m(\u001b[39m\"\u001b[39m\u001b[39mYou have to supply one of \u001b[39m\u001b[39m'\u001b[39m\u001b[39mby\u001b[39m\u001b[39m'\u001b[39m\u001b[39m and \u001b[39m\u001b[39m'\u001b[39m\u001b[39mlevel\u001b[39m\u001b[39m'\u001b[39m\u001b[39m\"\u001b[39m)\n\u001b[0;32m   8250\u001b[0m axis \u001b[39m=\u001b[39m \u001b[39mself\u001b[39m\u001b[39m.\u001b[39m_get_axis_number(axis)\n\u001b[1;32m-> 8252\u001b[0m \u001b[39mreturn\u001b[39;00m DataFrameGroupBy(\n\u001b[0;32m   8253\u001b[0m     obj\u001b[39m=\u001b[39;49m\u001b[39mself\u001b[39;49m,\n\u001b[0;32m   8254\u001b[0m     keys\u001b[39m=\u001b[39;49mby,\n\u001b[0;32m   8255\u001b[0m     axis\u001b[39m=\u001b[39;49maxis,\n\u001b[0;32m   8256\u001b[0m     level\u001b[39m=\u001b[39;49mlevel,\n\u001b[0;32m   8257\u001b[0m     as_index\u001b[39m=\u001b[39;49mas_index,\n\u001b[0;32m   8258\u001b[0m     sort\u001b[39m=\u001b[39;49msort,\n\u001b[0;32m   8259\u001b[0m     group_keys\u001b[39m=\u001b[39;49mgroup_keys,\n\u001b[0;32m   8260\u001b[0m     observed\u001b[39m=\u001b[39;49mobserved,\n\u001b[0;32m   8261\u001b[0m     dropna\u001b[39m=\u001b[39;49mdropna,\n\u001b[0;32m   8262\u001b[0m )\n",
      "File \u001b[1;32mc:\\Users\\corpse\\AppData\\Local\\Programs\\Python\\Python311\\Lib\\site-packages\\pandas\\core\\groupby\\groupby.py:931\u001b[0m, in \u001b[0;36mGroupBy.__init__\u001b[1;34m(self, obj, keys, axis, level, grouper, exclusions, selection, as_index, sort, group_keys, observed, dropna)\u001b[0m\n\u001b[0;32m    928\u001b[0m \u001b[39mself\u001b[39m\u001b[39m.\u001b[39mdropna \u001b[39m=\u001b[39m dropna\n\u001b[0;32m    930\u001b[0m \u001b[39mif\u001b[39;00m grouper \u001b[39mis\u001b[39;00m \u001b[39mNone\u001b[39;00m:\n\u001b[1;32m--> 931\u001b[0m     grouper, exclusions, obj \u001b[39m=\u001b[39m get_grouper(\n\u001b[0;32m    932\u001b[0m         obj,\n\u001b[0;32m    933\u001b[0m         keys,\n\u001b[0;32m    934\u001b[0m         axis\u001b[39m=\u001b[39;49maxis,\n\u001b[0;32m    935\u001b[0m         level\u001b[39m=\u001b[39;49mlevel,\n\u001b[0;32m    936\u001b[0m         sort\u001b[39m=\u001b[39;49msort,\n\u001b[0;32m    937\u001b[0m         observed\u001b[39m=\u001b[39;49mobserved,\n\u001b[0;32m    938\u001b[0m         dropna\u001b[39m=\u001b[39;49m\u001b[39mself\u001b[39;49m\u001b[39m.\u001b[39;49mdropna,\n\u001b[0;32m    939\u001b[0m     )\n\u001b[0;32m    941\u001b[0m \u001b[39mself\u001b[39m\u001b[39m.\u001b[39mobj \u001b[39m=\u001b[39m obj\n\u001b[0;32m    942\u001b[0m \u001b[39mself\u001b[39m\u001b[39m.\u001b[39maxis \u001b[39m=\u001b[39m obj\u001b[39m.\u001b[39m_get_axis_number(axis)\n",
      "File \u001b[1;32mc:\\Users\\corpse\\AppData\\Local\\Programs\\Python\\Python311\\Lib\\site-packages\\pandas\\core\\groupby\\grouper.py:985\u001b[0m, in \u001b[0;36mget_grouper\u001b[1;34m(obj, key, axis, level, sort, observed, validate, dropna)\u001b[0m\n\u001b[0;32m    983\u001b[0m         in_axis, level, gpr \u001b[39m=\u001b[39m \u001b[39mFalse\u001b[39;00m, gpr, \u001b[39mNone\u001b[39;00m\n\u001b[0;32m    984\u001b[0m     \u001b[39melse\u001b[39;00m:\n\u001b[1;32m--> 985\u001b[0m         \u001b[39mraise\u001b[39;00m \u001b[39mKeyError\u001b[39;00m(gpr)\n\u001b[0;32m    986\u001b[0m \u001b[39melif\u001b[39;00m \u001b[39misinstance\u001b[39m(gpr, Grouper) \u001b[39mand\u001b[39;00m gpr\u001b[39m.\u001b[39mkey \u001b[39mis\u001b[39;00m \u001b[39mnot\u001b[39;00m \u001b[39mNone\u001b[39;00m:\n\u001b[0;32m    987\u001b[0m     \u001b[39m# Add key to exclusions\u001b[39;00m\n\u001b[0;32m    988\u001b[0m     exclusions\u001b[39m.\u001b[39madd(gpr\u001b[39m.\u001b[39mkey)\n",
      "\u001b[1;31mKeyError\u001b[0m: 'Application'"
     ]
    }
   ],
   "source": [
    "# Time spent on each application\n",
    "print(\"\\nTime spent on each application:\")\n",
    "app_time = df.groupby('Application')['Time_Spent'].sum()\n",
    "print(app_time)"
   ]
  },
  {
   "cell_type": "code",
   "execution_count": 5,
   "metadata": {},
   "outputs": [
    {
     "ename": "NameError",
     "evalue": "name 'app_time' is not defined",
     "output_type": "error",
     "traceback": [
      "\u001b[1;31m---------------------------------------------------------------------------\u001b[0m",
      "\u001b[1;31mNameError\u001b[0m                                 Traceback (most recent call last)",
      "\u001b[1;32me:\\mine\\monuit\\time-tracker\\analysis.ipynb Cell 5\u001b[0m line \u001b[0;36m3\n\u001b[0;32m      <a href='vscode-notebook-cell:/e%3A/mine/monuit/time-tracker/analysis.ipynb#W4sZmlsZQ%3D%3D?line=0'>1</a>\u001b[0m \u001b[39m# Plotting\u001b[39;00m\n\u001b[0;32m      <a href='vscode-notebook-cell:/e%3A/mine/monuit/time-tracker/analysis.ipynb#W4sZmlsZQ%3D%3D?line=1'>2</a>\u001b[0m plt\u001b[39m.\u001b[39mfigure(figsize\u001b[39m=\u001b[39m(\u001b[39m10\u001b[39m, \u001b[39m6\u001b[39m))\n\u001b[1;32m----> <a href='vscode-notebook-cell:/e%3A/mine/monuit/time-tracker/analysis.ipynb#W4sZmlsZQ%3D%3D?line=2'>3</a>\u001b[0m app_time\u001b[39m.\u001b[39mplot(kind\u001b[39m=\u001b[39m\u001b[39m'\u001b[39m\u001b[39mbar\u001b[39m\u001b[39m'\u001b[39m)\n\u001b[0;32m      <a href='vscode-notebook-cell:/e%3A/mine/monuit/time-tracker/analysis.ipynb#W4sZmlsZQ%3D%3D?line=3'>4</a>\u001b[0m plt\u001b[39m.\u001b[39mtitle(\u001b[39m'\u001b[39m\u001b[39mTime Spent on Each Application\u001b[39m\u001b[39m'\u001b[39m)\n\u001b[0;32m      <a href='vscode-notebook-cell:/e%3A/mine/monuit/time-tracker/analysis.ipynb#W4sZmlsZQ%3D%3D?line=4'>5</a>\u001b[0m plt\u001b[39m.\u001b[39mxlabel(\u001b[39m'\u001b[39m\u001b[39mApplication\u001b[39m\u001b[39m'\u001b[39m)\n",
      "\u001b[1;31mNameError\u001b[0m: name 'app_time' is not defined"
     ]
    },
    {
     "data": {
      "text/plain": [
       "<Figure size 1000x600 with 0 Axes>"
      ]
     },
     "metadata": {},
     "output_type": "display_data"
    }
   ],
   "source": [
    "# Plotting\n",
    "plt.figure(figsize=(10, 6))\n",
    "app_time.plot(kind='bar')\n",
    "plt.title('Time Spent on Each Application')\n",
    "plt.xlabel('Application')\n",
    "plt.ylabel('Time Spent (seconds)')\n",
    "plt.show()"
   ]
  },
  {
   "cell_type": "code",
   "execution_count": 17,
   "metadata": {},
   "outputs": [
    {
     "name": "stdout",
     "output_type": "stream",
     "text": [
      "\n",
      "Average typing speed for each application:\n"
     ]
    },
    {
     "ename": "KeyError",
     "evalue": "'Column not found: Key_Strokes'",
     "output_type": "error",
     "traceback": [
      "\u001b[1;31m---------------------------------------------------------------------------\u001b[0m",
      "\u001b[1;31mKeyError\u001b[0m                                  Traceback (most recent call last)",
      "\u001b[1;32me:\\mine\\monuit\\time-tracker\\analysis.ipynb Cell 6\u001b[0m line \u001b[0;36m3\n\u001b[0;32m      <a href='vscode-notebook-cell:/e%3A/mine/monuit/time-tracker/analysis.ipynb#W2sZmlsZQ%3D%3D?line=0'>1</a>\u001b[0m \u001b[39m# Average typing speed (keys/second) for each application\u001b[39;00m\n\u001b[0;32m      <a href='vscode-notebook-cell:/e%3A/mine/monuit/time-tracker/analysis.ipynb#W2sZmlsZQ%3D%3D?line=1'>2</a>\u001b[0m \u001b[39mprint\u001b[39m(\u001b[39m\"\u001b[39m\u001b[39m\\n\u001b[39;00m\u001b[39mAverage typing speed for each application:\u001b[39m\u001b[39m\"\u001b[39m)\n\u001b[1;32m----> <a href='vscode-notebook-cell:/e%3A/mine/monuit/time-tracker/analysis.ipynb#W2sZmlsZQ%3D%3D?line=2'>3</a>\u001b[0m typing_speed \u001b[39m=\u001b[39m df\u001b[39m.\u001b[39;49mgroupby(\u001b[39m'\u001b[39;49m\u001b[39mApplication\u001b[39;49m\u001b[39m'\u001b[39;49m)[\u001b[39m'\u001b[39;49m\u001b[39mKey_Strokes\u001b[39;49m\u001b[39m'\u001b[39;49m]\u001b[39m.\u001b[39msum() \u001b[39m/\u001b[39m df\u001b[39m.\u001b[39mgroupby(\u001b[39m'\u001b[39m\u001b[39mApplication\u001b[39m\u001b[39m'\u001b[39m)[\u001b[39m'\u001b[39m\u001b[39mTime_Spent\u001b[39m\u001b[39m'\u001b[39m]\u001b[39m.\u001b[39msum()\n\u001b[0;32m      <a href='vscode-notebook-cell:/e%3A/mine/monuit/time-tracker/analysis.ipynb#W2sZmlsZQ%3D%3D?line=3'>4</a>\u001b[0m \u001b[39mprint\u001b[39m(typing_speed)\n",
      "File \u001b[1;32mc:\\Users\\corpse\\AppData\\Local\\Programs\\Python\\Python311\\Lib\\site-packages\\pandas\\core\\groupby\\generic.py:1771\u001b[0m, in \u001b[0;36mDataFrameGroupBy.__getitem__\u001b[1;34m(self, key)\u001b[0m\n\u001b[0;32m   1764\u001b[0m \u001b[39mif\u001b[39;00m \u001b[39misinstance\u001b[39m(key, \u001b[39mtuple\u001b[39m) \u001b[39mand\u001b[39;00m \u001b[39mlen\u001b[39m(key) \u001b[39m>\u001b[39m \u001b[39m1\u001b[39m:\n\u001b[0;32m   1765\u001b[0m     \u001b[39m# if len == 1, then it becomes a SeriesGroupBy and this is actually\u001b[39;00m\n\u001b[0;32m   1766\u001b[0m     \u001b[39m# valid syntax, so don't raise\u001b[39;00m\n\u001b[0;32m   1767\u001b[0m     \u001b[39mraise\u001b[39;00m \u001b[39mValueError\u001b[39;00m(\n\u001b[0;32m   1768\u001b[0m         \u001b[39m\"\u001b[39m\u001b[39mCannot subset columns with a tuple with more than one element. \u001b[39m\u001b[39m\"\u001b[39m\n\u001b[0;32m   1769\u001b[0m         \u001b[39m\"\u001b[39m\u001b[39mUse a list instead.\u001b[39m\u001b[39m\"\u001b[39m\n\u001b[0;32m   1770\u001b[0m     )\n\u001b[1;32m-> 1771\u001b[0m \u001b[39mreturn\u001b[39;00m \u001b[39msuper\u001b[39;49m()\u001b[39m.\u001b[39;49m\u001b[39m__getitem__\u001b[39;49m(key)\n",
      "File \u001b[1;32mc:\\Users\\corpse\\AppData\\Local\\Programs\\Python\\Python311\\Lib\\site-packages\\pandas\\core\\base.py:244\u001b[0m, in \u001b[0;36mSelectionMixin.__getitem__\u001b[1;34m(self, key)\u001b[0m\n\u001b[0;32m    242\u001b[0m \u001b[39melse\u001b[39;00m:\n\u001b[0;32m    243\u001b[0m     \u001b[39mif\u001b[39;00m key \u001b[39mnot\u001b[39;00m \u001b[39min\u001b[39;00m \u001b[39mself\u001b[39m\u001b[39m.\u001b[39mobj:\n\u001b[1;32m--> 244\u001b[0m         \u001b[39mraise\u001b[39;00m \u001b[39mKeyError\u001b[39;00m(\u001b[39mf\u001b[39m\u001b[39m\"\u001b[39m\u001b[39mColumn not found: \u001b[39m\u001b[39m{\u001b[39;00mkey\u001b[39m}\u001b[39;00m\u001b[39m\"\u001b[39m)\n\u001b[0;32m    245\u001b[0m     ndim \u001b[39m=\u001b[39m \u001b[39mself\u001b[39m\u001b[39m.\u001b[39mobj[key]\u001b[39m.\u001b[39mndim\n\u001b[0;32m    246\u001b[0m     \u001b[39mreturn\u001b[39;00m \u001b[39mself\u001b[39m\u001b[39m.\u001b[39m_gotitem(key, ndim\u001b[39m=\u001b[39mndim)\n",
      "\u001b[1;31mKeyError\u001b[0m: 'Column not found: Key_Strokes'"
     ]
    }
   ],
   "source": [
    "# Average typing speed (keys/second) for each application\n",
    "print(\"\\nAverage typing speed for each application:\")\n",
    "typing_speed = df.groupby('Application')['Key_Strokes'].sum(\n",
    ") / df.groupby('Application')['Time_Spent'].sum()\n",
    "print(typing_speed)"
   ]
  },
  {
   "cell_type": "code",
   "execution_count": 18,
   "metadata": {},
   "outputs": [
    {
     "data": {
      "image/png": "[encoded data removed]",
      "text/plain": [
       "<Figure size 1000x600 with 1 Axes>"
      ]
     },
     "metadata": {},
     "output_type": "display_data"
    }
   ],
   "source": [
    "# Plotting\n",
    "plt.figure(figsize=(10, 6))\n",
    "typing_speed.plot(kind='bar')\n",
    "plt.title('Average Typing Speed on Each Application')\n",
    "plt.xlabel('Application')\n",
    "plt.ylabel('Typing Speed (keys/second)')\n",
    "plt.show()"
   ]
  }
 ],
 "metadata": {
  "kernelspec": {
   "display_name": "Python 3",
   "language": "python",
   "name": "python3"
  },
  "language_info": {
   "codemirror_mode": {
    "name": "ipython",
    "version": 3
   },
   "file_extension": ".py",
   "mimetype": "text/x-python",
   "name": "python",
   "nbconvert_exporter": "python",
   "pygments_lexer": "ipython3",
   "version": "3.11.3"
  }
 },
 "nbformat": 4,
 "nbformat_minor": 2
}
